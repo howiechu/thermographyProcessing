{
 "cells": [
  {
   "cell_type": "markdown",
   "source": [
    "## Import stuff"
   ],
   "metadata": {}
  },
  {
   "cell_type": "code",
   "execution_count": 2,
   "source": [
    "# Jupyter shenanigans\r\n",
    "%matplotlib widget\r\n",
    "%config InlineBackend.figure_format='retina'\r\n",
    "\r\n",
    "# Science \r\n",
    "import numpy as np\r\n",
    "from scipy import interpolate, ndimage, signal\r\n",
    "\r\n",
    "# Plotting and visualization\r\n",
    "import matplotlib.pyplot as plt\r\n",
    "from matplotlib.backends.backend_pdf import PdfPages\r\n",
    "\r\n",
    "# Data tools\r\n",
    "import h5py\r\n",
    "import sqlite3\r\n",
    "\r\n",
    "# MongoDB\r\n",
    "from customImports import mongo \r\n",
    "client = mongo.client_connect()\r\n",
    "db = mongo.database_connect(client,'Experiments')\r\n",
    "collection = db.Thermography\r\n",
    "\r\n",
    "# Misc\r\n",
    "from datetime import datetime, timedelta\r\n",
    "import importlib\r\n",
    "import copy\r\n",
    "\r\n",
    "# Set base directory for macOS\r\n",
    "import os.path\r\n",
    "dir = '/'.join(os.getcwd().split('/')[0:3])+'/'\r\n",
    "print(dir)"
   ],
   "outputs": [
    {
     "output_type": "stream",
     "name": "stdout",
     "text": [
      "/Users/howiechu/\n"
     ]
    }
   ],
   "metadata": {}
  },
  {
   "cell_type": "markdown",
   "source": [
    "## Import files"
   ],
   "metadata": {}
  },
  {
   "cell_type": "code",
   "execution_count": 3,
   "source": [
    "# Set file directory, experiment folder always contains A.mat for matlab array\r\n",
    "# and exptname.sqlite or .csv (Ivium vs. kepco) for voltage data\r\n",
    "thermdir = dir+'Desktop/Kokam/KKMF/SOH95/SOC60/KKMF_SOC60_4c50s_021220/'\r\n",
    "ecf = 'KKMF_SOC60_4c50s_021220.sqlite'"
   ],
   "outputs": [],
   "metadata": {}
  },
  {
   "cell_type": "code",
   "execution_count": 4,
   "source": [
    "# load IR video array\r\n",
    "def reloadvid():\r\n",
    "    A = h5py.File(thermdir+'A.mat','r')[('A')]\r\n",
    "    # Transpose Array (some older sets are transposed for some reason)\r\n",
    "    if A.shape[1]>A.shape[2]:\r\n",
    "        A = np.transpose(A,(0,2,1))\r\n",
    "    return A\r\n",
    "\r\n",
    "A = reloadvid()"
   ],
   "outputs": [],
   "metadata": {}
  },
  {
   "cell_type": "code",
   "execution_count": 5,
   "source": [
    "# load IVIUM sqlite database\r\n",
    "conn = sqlite3.connect(thermdir+ecf)\r\n",
    "cur = conn.cursor()\r\n",
    "res = conn.execute(\"SELECT name FROM sqlite_master WHERE type='table';\")\r\n",
    "\r\n",
    "# print table names if you need it\r\n",
    "# for name in res:\r\n",
    "#     print(name[0])"
   ],
   "outputs": [],
   "metadata": {}
  },
  {
   "cell_type": "code",
   "execution_count": 6,
   "source": [
    "# Set thermometer temperature to calibrate ambient thermocouple\r\n",
    "tref = 23.5\r\n",
    "cur.execute('SELECT e FROM analog')\r\n",
    "tcouple = cur.fetchall()\r\n",
    "tcouple = np.asarray(tcouple[1::2])\r\n",
    "tcouple = tcouple*200\r\n",
    "tcouple = tcouple-abs(tcouple[0]-tref)\r\n",
    "\r\n",
    "# Assemble echem data [time,amb. temp, current, voltage]\r\n",
    "cur.execute('SELECT t,y,z FROM point')\r\n",
    "EC = cur.fetchall()\r\n",
    "EC = np.asarray(EC)\r\n",
    "EC = np.hstack((EC,tcouple))\r\n",
    "# restack columns to match when we used the KEPCO\r\n",
    "EC = EC[:,[0,3,1,2]]"
   ],
   "outputs": [],
   "metadata": {}
  },
  {
   "cell_type": "code",
   "execution_count": 7,
   "source": [
    "from customImports import thermography_functions as tf\r\n",
    "# Reload module if changes are made\r\n",
    "# importlib.reload(tf)\r\n",
    "kokam = tf.thermography(A, 'Kokam')"
   ],
   "outputs": [],
   "metadata": {}
  },
  {
   "cell_type": "markdown",
   "source": [
    "## Plots DAQ data, change col to get other column data"
   ],
   "metadata": {}
  },
  {
   "cell_type": "code",
   "execution_count": 8,
   "source": [
    "kokam.plot_DAQ(EC, ylabel = 'Ambient temperature ($^{\\circ}$C)', col = [1])\r\n",
    "# kokam.plot_DAQ(EC, ylabel = 'Potential (V)', col = 2)"
   ],
   "outputs": [
    {
     "output_type": "display_data",
     "data": {
      "text/plain": [
       "Canvas(toolbar=Toolbar(toolitems=[('Home', 'Reset original view', 'home', 'home'), ('Back', 'Back to previous …"
      ],
      "application/vnd.jupyter.widget-view+json": {
       "model_id": "f6195368942f49c29792aa0118c9f7eb",
       "version_major": 2,
       "version_minor": 0
      }
     },
     "metadata": {}
    }
   ],
   "metadata": {}
  },
  {
   "cell_type": "markdown",
   "source": [
    "## Importing and syncing timestamps"
   ],
   "metadata": {}
  },
  {
   "cell_type": "code",
   "execution_count": 9,
   "source": [
    "# IR camera timestamps\r\n",
    "f = np.loadtxt(thermdir+'timestamps.csv', delimiter=',', dtype=str)\r\n",
    "# Converts time string to datetime object\r\n",
    "At = [datetime.strptime(time[4:],'%H:%M:%S.%f') for time in f]\r\n",
    "# Grabs starting IR video frame's time of capture\r\n",
    "irStart = datetime.timestamp(At[0])\r\n",
    "# Converts all datetime objects to timestamps and places them into a list\r\n",
    "At = np.asarray([datetime.timestamp(n) for n in At])"
   ],
   "outputs": [],
   "metadata": {}
  },
  {
   "cell_type": "markdown",
   "source": [
    "- Until the ivium can tell time correctly the measurement start time is useless but how to access it is here just in case.\n",
    "- 2021/04/21 - Update : newest ivium software fixed time issues, not sure if it has milliseconds so use whatever you want, all of my data will have to use file creation time\n",
    "\n",
    "```\n",
    "# Pulls the time the Octostat starts the test \n",
    "cur.execute('SELECT start_time FROM measurement')\n",
    "dstE = cur.fetchall()[0][0][11:]\n",
    "dstE = datetime.timestamp(datetime.strptime(dstE,'%H:%M:%S'))\n",
    "```"
   ],
   "metadata": {}
  },
  {
   "cell_type": "code",
   "execution_count": 10,
   "source": [
    "# Pulls the time the sqlite file was created\r\n",
    "cur.execute('SELECT * FROM metadata')\r\n",
    "iviumStart = cur.fetchall()[3][1]\r\n",
    "iviumStart = datetime.timestamp(datetime.strptime(iviumStart, '%H-%M-%S-%f'))\r\n",
    "\r\n",
    "# Compares start times of Ivium and the IR camera\r\n",
    "checkStart = iviumStart-irStart\r\n",
    "\r\n",
    "# Normalizes the thermography data and voltage data timestamps\r\n",
    "# 0 is when the ivium starts collecting data\r\n",
    "At = At-At[0]-checkStart\r\n",
    "\r\n",
    "# Find when current starts to flow\r\n",
    "# Finds where absolute value of current is greater than 0.2 the first time\r\n",
    "off = np.where(np.absolute(EC[:,2])>0.2)[0][0]\r\n",
    "timeOffset = EC[off,0]\r\n",
    "\r\n",
    "# Time sync : 0 is now when current starts flowing for both devices\r\n",
    "At = At-timeOffset\r\n",
    "EC[:,0] = EC[:,0]-timeOffset"
   ],
   "outputs": [],
   "metadata": {}
  },
  {
   "cell_type": "markdown",
   "source": [
    "## Adjust ROI locations (full image)\n",
    "Manually change parameters until rectangles align, then uncomment last line to save figure\n",
    "- Sampling area : ndarray[row_index][column_index]\n",
    "- With patches  : patches.thingyouwant((x,y),width,height,etc)"
   ],
   "metadata": {}
  },
  {
   "cell_type": "code",
   "execution_count": 11,
   "source": [
    "# Manually choose where the active battery material and ambient spot locations are\r\n",
    "# Placed into list [top left corner row, top left corner col, number of rows, number of columns] or [y, x, height, width]\r\n",
    "# Can probably do something like edge detection instead\r\n",
    "Abatt = [135,117,52,114]\r\n",
    "Aamb = [202,75,27,27]"
   ],
   "outputs": [],
   "metadata": {}
  },
  {
   "cell_type": "markdown",
   "source": [
    "## Plots the ROI that are chosen above"
   ],
   "metadata": {}
  },
  {
   "cell_type": "code",
   "execution_count": 12,
   "source": [
    "kokam.plot_ROI(Abatt, Aamb, frame = 2000)\r\n",
    "# Save current figure, if wanted\r\n",
    "# There is also a function to save all open figures near the end\r\n",
    "# plt.savefig(thermdir+\"ROI_return.pdf\")"
   ],
   "outputs": [
    {
     "output_type": "display_data",
     "data": {
      "text/plain": [
       "Canvas(toolbar=Toolbar(toolitems=[('Home', 'Reset original view', 'home', 'home'), ('Back', 'Back to previous …"
      ],
      "application/vnd.jupyter.widget-view+json": {
       "model_id": "6b7143b38b484613ba092103a4dd92f9",
       "version_major": 2,
       "version_minor": 0
      }
     },
     "metadata": {}
    }
   ],
   "metadata": {}
  },
  {
   "cell_type": "markdown",
   "source": [
    "### Slice out ROI data for further processing"
   ],
   "metadata": {}
  },
  {
   "cell_type": "code",
   "execution_count": 13,
   "source": [
    "B, Amb = kokam.extract_ROI(Abatt, Aamb)\r\n",
    "# Not necessary but might need to reload the original file if working backwards\r\n",
    "B = copy.deepcopy(B)"
   ],
   "outputs": [],
   "metadata": {}
  },
  {
   "cell_type": "markdown",
   "source": [
    "### Camera calibration adjustment"
   ],
   "metadata": {}
  },
  {
   "cell_type": "code",
   "execution_count": 14,
   "source": [
    "B = kokam.ambient_calibration(B, Amb)"
   ],
   "outputs": [],
   "metadata": {}
  },
  {
   "cell_type": "markdown",
   "source": [
    "### Hot spot tracker"
   ],
   "metadata": {}
  },
  {
   "cell_type": "code",
   "execution_count": 15,
   "source": [
    "# Finds index of IR frame that references  t = 0\r\n",
    "At0 = np.where(np.round(At) == 0)[0][0]\r\n",
    "# Function to generate list of 2D max locations in (x,y) for n frames after t = 0\r\n",
    "indMax = kokam.hotspot_location_array(B, At0, 2500)"
   ],
   "outputs": [],
   "metadata": {}
  },
  {
   "cell_type": "code",
   "execution_count": 16,
   "source": [
    "# Average the x and y coordinate \r\n",
    "# (patchSize/2) is for making up for the dimension of the square\r\n",
    "patchSize = 10\r\n",
    "Ahot = np.round(np.mean(indMax[200:], axis=0)).astype(int)-int(patchSize/2)\r\n",
    "# Acold is just defaulted to bottom left corner, shifted to match patchSize\r\n",
    "Acold = [B[0].shape[0]-patchSize, 0]\r\n",
    "\r\n",
    "print('Hot spot location (pixels): '+str(Ahot))\r\n",
    "print('Cold spot location (pixels): '+str(Acold))"
   ],
   "outputs": [
    {
     "output_type": "stream",
     "name": "stdout",
     "text": [
      "Hot spot location (pixels): [21 51]\n",
      "Cold spot location (pixels): [42, 0]\n"
     ]
    }
   ],
   "metadata": {}
  },
  {
   "cell_type": "markdown",
   "source": [
    "### Plots location of hot spot at each time step using magma color map\n",
    "- dark/blue = early\n",
    "- orange/white = later"
   ],
   "metadata": {}
  },
  {
   "cell_type": "code",
   "execution_count": 17,
   "source": [
    "kokam.plot_extremes_tracker(B[0].shape, indMax, Ahot, Acold, patchSize)"
   ],
   "outputs": [
    {
     "output_type": "display_data",
     "data": {
      "text/plain": [
       "Canvas(toolbar=Toolbar(toolitems=[('Home', 'Reset original view', 'home', 'home'), ('Back', 'Back to previous …"
      ],
      "application/vnd.jupyter.widget-view+json": {
       "model_id": "d32d97fc3ec345458afc634e1913c1ad",
       "version_major": 2,
       "version_minor": 0
      }
     },
     "metadata": {}
    }
   ],
   "metadata": {}
  },
  {
   "cell_type": "markdown",
   "source": [
    "### Plots the hot/cold spot rectangles over a sample frame from IR video"
   ],
   "metadata": {}
  },
  {
   "cell_type": "code",
   "execution_count": 18,
   "source": [
    "kokam.plot_battery_ROI(B, patchSize, 1000, Ahot, Acold)"
   ],
   "outputs": [
    {
     "output_type": "display_data",
     "data": {
      "text/plain": [
       "Canvas(toolbar=Toolbar(toolitems=[('Home', 'Reset original view', 'home', 'home'), ('Back', 'Back to previous …"
      ],
      "application/vnd.jupyter.widget-view+json": {
       "model_id": "a0eb2dcdf6074eb983e12d9a1bb31690",
       "version_major": 2,
       "version_minor": 0
      }
     },
     "metadata": {}
    }
   ],
   "metadata": {}
  },
  {
   "cell_type": "markdown",
   "source": [
    "# ROI data generation \n",
    "- takes surface average of the entire input array, and the slices provided"
   ],
   "metadata": {}
  },
  {
   "cell_type": "code",
   "execution_count": 19,
   "source": [
    "Thot, Tavg, Tcold = kokam.extract_data(B, Ahot, Acold, patchSize)"
   ],
   "outputs": [],
   "metadata": {}
  },
  {
   "cell_type": "markdown",
   "source": [
    "#### Convert $\\Delta$T back to absolute using average ambient temperature \n",
    "#### (from ambient temperature thermocouple calibrated with thermometer)"
   ],
   "metadata": {}
  },
  {
   "cell_type": "code",
   "execution_count": 20,
   "source": [
    "# Add back the time average air temperature of the room (over time of experiment)\r\n",
    "tAmbAvg = np.mean(EC[:,1])\r\n",
    "\r\n",
    "Thot = Thot + tAmbAvg\r\n",
    "Tavg = Tavg + tAmbAvg\r\n",
    "Tcold = Tcold + tAmbAvg\r\n",
    "\r\n",
    "# Combines the column vectors into an array\r\n",
    "IR = np.stack((At,Thot,Tavg,Tcold), axis = 1)"
   ],
   "outputs": [],
   "metadata": {}
  },
  {
   "cell_type": "markdown",
   "source": [
    "# Interpolate all the things\n",
    "- Camera freq is at 1 Hz\n",
    "- Data logger is at 5 Hz (older experiments were at 1 Hz)\n",
    "- linearly interpolate at 1 Hz"
   ],
   "metadata": {}
  },
  {
   "cell_type": "code",
   "execution_count": 21,
   "source": [
    "Time = np.arange(0,int(At[-1]),1)\r\n",
    "Table = np.empty((Time.shape[0],IR.shape[1]+1))\r\n",
    "Table[:,0] = Time\r\n",
    "for x in range(1,4):\r\n",
    "    Table[:,x] = np.interp(Time,IR[:,0],IR[:,x])\r\n",
    "Table[:,-1] = np.interp(Time,EC[:,0],EC[:,3])"
   ],
   "outputs": [],
   "metadata": {}
  },
  {
   "cell_type": "markdown",
   "source": [
    "### Normalize starting temperatures\n",
    "- shifts every column so that t=0 has the same temperatures for hot/cold/average"
   ],
   "metadata": {}
  },
  {
   "cell_type": "code",
   "execution_count": 22,
   "source": [
    "# Small adjustment to the starting temperatures\r\n",
    "avgstart = np.mean(Table[0,1:4])\r\n",
    "for x in range(1,4):\r\n",
    "    Table[:,x] = Table[:,x]-Table[0,x]+avgstart\r\n",
    "# np.savetxt(dir+expt+\"thermographyData.csv\", Table, delimiter=\",\", fmt='%1.3f')"
   ],
   "outputs": [],
   "metadata": {}
  },
  {
   "cell_type": "markdown",
   "source": [
    "# Plot"
   ],
   "metadata": {}
  },
  {
   "cell_type": "code",
   "execution_count": 23,
   "source": [
    "kokam.plot_processed_thermography(Table, endTime = 2500, adjustable = True)"
   ],
   "outputs": [
    {
     "output_type": "display_data",
     "data": {
      "text/plain": [
       "Canvas(toolbar=Toolbar(toolitems=[('Home', 'Reset original view', 'home', 'home'), ('Back', 'Back to previous …"
      ],
      "application/vnd.jupyter.widget-view+json": {
       "model_id": "4724e9c9dcea4c5f87c7e11c9f93bb40",
       "version_major": 2,
       "version_minor": 0
      }
     },
     "metadata": {}
    }
   ],
   "metadata": {}
  },
  {
   "cell_type": "markdown",
   "source": [
    "### Run these cells if there are bad calibrations in the data (jumps)"
   ],
   "metadata": {}
  },
  {
   "cell_type": "code",
   "execution_count": 24,
   "source": [
    "# Adjust which series to analyze and peak height to choose most appropriate fix\r\n",
    "kokam.analyze_jumps(Table, 3, 0.1)"
   ],
   "outputs": [
    {
     "output_type": "display_data",
     "data": {
      "text/plain": [
       "Canvas(toolbar=Toolbar(toolitems=[('Home', 'Reset original view', 'home', 'home'), ('Back', 'Back to previous …"
      ],
      "application/vnd.jupyter.widget-view+json": {
       "model_id": "871e145d9aae43e2a430443d2ff9e0e0",
       "version_major": 2,
       "version_minor": 0
      }
     },
     "metadata": {}
    }
   ],
   "metadata": {}
  },
  {
   "cell_type": "code",
   "execution_count": 25,
   "source": [
    "fTable = kokam.execute_jumps(Table)"
   ],
   "outputs": [],
   "metadata": {}
  },
  {
   "cell_type": "code",
   "execution_count": 26,
   "source": [
    "kokam.plot_processed_thermography(fTable, endTime = 2500, adjustable = True, figName = 'postFix')"
   ],
   "outputs": [
    {
     "output_type": "display_data",
     "data": {
      "text/plain": [
       "Canvas(toolbar=Toolbar(toolitems=[('Home', 'Reset original view', 'home', 'home'), ('Back', 'Back to previous …"
      ],
      "application/vnd.jupyter.widget-view+json": {
       "model_id": "33adc7fd5aa24a20b8ef2995f2af3766",
       "version_major": 2,
       "version_minor": 0
      }
     },
     "metadata": {}
    }
   ],
   "metadata": {}
  },
  {
   "cell_type": "code",
   "execution_count": 27,
   "source": [
    "# np.savetxt(dir+expt+\"thermographyData.csv\", fTable, delimiter=\",\", fmt='%1.3f')"
   ],
   "outputs": [],
   "metadata": {}
  },
  {
   "cell_type": "markdown",
   "source": [
    "# Smoothing for video"
   ],
   "metadata": {}
  },
  {
   "cell_type": "code",
   "execution_count": 28,
   "source": [
    "# Associate At (timestamps) to the B matrix, \r\n",
    "# then interp1D to get interpolated temp data at relevant times\r\n",
    "Ainterp = interpolate.interp1d(At, B, axis=0)\r\n",
    "\r\n",
    "# Time is the same dimensions as COMSOL data length\r\n",
    "evalTime = np.arange(0,int(At[-1]),1)\r\n",
    "\r\n",
    "# Evaluate interpolation function\r\n",
    "Binterp = Ainterp(evalTime)\r\n",
    "\r\n",
    "# Convert back to absolute temperature using tAmbAvg from previous cells\r\n",
    "Binterp = Binterp - Binterp[0] + tAmbAvg\r\n",
    "\r\n",
    "# Smooth the matrix for visualization (gaussian blur)\r\n",
    "Bsmooth = ndimage.filters.gaussian_filter(Binterp, 5)"
   ],
   "outputs": [],
   "metadata": {}
  },
  {
   "cell_type": "code",
   "execution_count": 29,
   "source": [
    "# Use list of time steps you want to plot\r\n",
    "plotTimes = [1000, 1500, 2100, 2400]\r\n",
    "# Input number of columns you want the figure to have\r\n",
    "kokam.plot_video_frames(Bsmooth, plotTimes, 2)"
   ],
   "outputs": [
    {
     "output_type": "display_data",
     "data": {
      "text/plain": [
       "Canvas(toolbar=Toolbar(toolitems=[('Home', 'Reset original view', 'home', 'home'), ('Back', 'Back to previous …"
      ],
      "application/vnd.jupyter.widget-view+json": {
       "model_id": "4218c4271c6b4f779d2d970b8da06bfd",
       "version_major": 2,
       "version_minor": 0
      }
     },
     "metadata": {}
    }
   ],
   "metadata": {}
  },
  {
   "cell_type": "markdown",
   "source": [
    "### Code to save all open figures into a single PDF"
   ],
   "metadata": {}
  },
  {
   "cell_type": "code",
   "execution_count": null,
   "source": [
    "def save_allfigs(filename, figs=None):\r\n",
    "    '''\r\n",
    "    Saves all open figures to a single pdf file if no figure labels are passed, \r\n",
    "    otherwise saves whatever strings are passed.\r\n",
    "    \r\n",
    "    Parameters:\r\n",
    "        filename (str): filename for pdf\r\n",
    "        figs (list of str): list of figure labels\r\n",
    "        \r\n",
    "    Returns:\r\n",
    "        pdf file with a figure on each page\r\n",
    "    '''\r\n",
    "    with PdfPages('{}.pdf'.format(filename)) as pdf:\r\n",
    "        if figs is None:\r\n",
    "            figs = plt.get_figlabels()\r\n",
    "        for fig in figs:\r\n",
    "            tempFig = plt.figure(fig)\r\n",
    "            pdf.savefig(tempFig, dpi = 300)"
   ],
   "outputs": [],
   "metadata": {}
  },
  {
   "cell_type": "code",
   "execution_count": null,
   "source": [
    "save_allfigs('allfigs')"
   ],
   "outputs": [],
   "metadata": {}
  },
  {
   "cell_type": "code",
   "execution_count": 30,
   "source": [
    "\r\n",
    "doc_update = {\r\n",
    "    'directory':thermdir,\r\n",
    "    'filename': {\r\n",
    "        'IR': thermdir.split('/')[-2]+'test',\r\n",
    "        'EC': ecf\r\n",
    "    },\r\n",
    "    'ROI': {\r\n",
    "        'battery corner':Abatt[0:2],\r\n",
    "        'battery height':Abatt[2],\r\n",
    "        'battery width':Abatt[3],\r\n",
    "        'ambient corner':Aamb[0:2],\r\n",
    "        'ambient height':Aamb[2],\r\n",
    "        'ambient width':Aamb[3]\r\n",
    "    },\r\n",
    "    'expt':{\r\n",
    "        'cell':'Kokam',\r\n",
    "        'cellID':thermdir.split('/')[-2].split('_')[0],\r\n",
    "        'type':'squarewave',\r\n",
    "        'SOH':95,\r\n",
    "        'SOC':60,\r\n",
    "        'c-rate':2,\r\n",
    "        'period':100,\r\n",
    "        'tref':tref,\r\n",
    "        'PSU':'octostat'\r\n",
    "    },\r\n",
    "    'batteryROI': {\r\n",
    "        'hot corner':Ahot.tolist(),\r\n",
    "        'hot height':patchSize,\r\n",
    "        'hot width':patchSize,\r\n",
    "        'cold corner':Acold,\r\n",
    "        'cold height':patchSize,\r\n",
    "        'cold width':patchSize\r\n",
    "    },\r\n",
    "    'output':mongo.convert_ndarray_binary(fTable),\r\n",
    "    'imageLocations': {\r\n",
    "        'thermogramFull':thermdir+\"ROI_return.pdf\",\r\n",
    "        'hotSpotMap':thermdir+\"hotSpotTracked.pdf\",\r\n",
    "        'thermogramBatt':thermdir+\"battery_ROI.pdf\",\r\n",
    "        'thermogramTime':thermdir+'thermogramTime.pdf',\r\n",
    "        'outputPlot':thermdir+'dataPlot.pdf'\r\n",
    "    },\r\n",
    "    'notes': 'nothing of note',\r\n",
    "    'dstCheck':dstCheck if ecf.split('.')[-1] in ['csv'] else None,\r\n",
    "    'timeOffset':timeOffset\r\n",
    "    \r\n",
    "}\r\n",
    "\r\n",
    "collection.update_one({'filename.IR':thermdir.split('/')[-2]+'test'}, {'$set':doc_update}, upsert=True)"
   ],
   "outputs": [
    {
     "output_type": "execute_result",
     "data": {
      "text/plain": [
       "<pymongo.results.UpdateResult at 0x7f86b1069690>"
      ]
     },
     "metadata": {},
     "execution_count": 30
    }
   ],
   "metadata": {}
  },
  {
   "cell_type": "code",
   "execution_count": null,
   "source": [],
   "outputs": [],
   "metadata": {}
  }
 ],
 "metadata": {
  "kernelspec": {
   "display_name": "Python 3",
   "language": "python",
   "name": "python3"
  },
  "language_info": {
   "codemirror_mode": {
    "name": "ipython",
    "version": 3
   },
   "file_extension": ".py",
   "mimetype": "text/x-python",
   "name": "python",
   "nbconvert_exporter": "python",
   "pygments_lexer": "ipython3",
   "version": "3.7.4"
  }
 },
 "nbformat": 4,
 "nbformat_minor": 4
}