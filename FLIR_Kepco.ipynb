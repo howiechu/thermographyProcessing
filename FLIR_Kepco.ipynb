{
 "cells": [
  {
   "cell_type": "markdown",
   "metadata": {},
   "source": [
    "## Import stuff"
   ]
  },
  {
   "cell_type": "code",
   "execution_count": 1,
   "metadata": {},
   "outputs": [
    {
     "name": "stdout",
     "output_type": "stream",
     "text": [
      "/Users/howiechu/\n"
     ]
    }
   ],
   "source": [
    "# Jupyter shenanigans\n",
    "%matplotlib widget\n",
    "%config InlineBackend.figure_format='retina'\n",
    "\n",
    "# Science \n",
    "import numpy as np\n",
    "from scipy import interpolate, ndimage, signal\n",
    "\n",
    "# Plotting and visualization\n",
    "import matplotlib.pyplot as plt\n",
    "from matplotlib.backends.backend_pdf import PdfPages\n",
    "\n",
    "# Data tools\n",
    "import h5py\n",
    "import sqlite3\n",
    "\n",
    "# MongoDB\n",
    "from customImports import mongo \n",
    "client = mongo.client_connect()\n",
    "db = mongo.database_connect(client,'Experiments')\n",
    "collection = db.Thermography\n",
    "\n",
    "# Misc\n",
    "from datetime import datetime, timedelta\n",
    "import importlib\n",
    "import copy\n",
    "\n",
    "# Set base directory for macOS\n",
    "import os.path\n",
    "dir = '/'.join(os.getcwd().split('/')[0:3])+'/'\n",
    "print(dir)"
   ]
  },
  {
   "cell_type": "markdown",
   "metadata": {},
   "source": [
    "## Import files"
   ]
  },
  {
   "cell_type": "code",
   "execution_count": 2,
   "metadata": {},
   "outputs": [],
   "source": [
    "# Set file directory, experiment folder always contains A.mat for matlab array\n",
    "# and exptname.sqlite or .csv (Ivium vs. kepco) for voltage data\n",
    "thermdir = dir+'Desktop/Kokam/KKMG/SOH100/SOC50/KKMG_SOC50_5c100s_230320_2/'\n",
    "ecf = 'KKMG_SOC50_5c100s_230320_2.csv'"
   ]
  },
  {
   "cell_type": "code",
   "execution_count": 3,
   "metadata": {},
   "outputs": [],
   "source": [
    "# load IR video array\n",
    "def reloadvid():\n",
    "    A = h5py.File(thermdir+'A.mat','r')[('A')]\n",
    "    # Transpose Array (some older sets are transposed for some reason)\n",
    "    if A.shape[1]>A.shape[2]:\n",
    "        A = np.transpose(A,(0,2,1))\n",
    "    return A\n",
    "\n",
    "A = reloadvid()"
   ]
  },
  {
   "cell_type": "markdown",
   "metadata": {},
   "source": [
    "## Importing and syncing timestamps"
   ]
  },
  {
   "cell_type": "code",
   "execution_count": 4,
   "metadata": {},
   "outputs": [],
   "source": [
    "# Load IR camera time stamps\n",
    "At = np.loadtxt(thermdir+'timestamps.csv', \n",
    "               delimiter=',', dtype=str)\n",
    "At = [datetime.strptime(time[4:],'%H:%M:%S.%f') for time in At]\n",
    "dstA = At[0]\n",
    "At = np.asarray([datetime.timestamp(n) for n in At])\n",
    "\n",
    "# Load Echem data from DAQ\n",
    "EC = np.loadtxt(thermdir+ecf,\n",
    "               delimiter=',', \n",
    "               skiprows=9, \n",
    "               usecols=np.arange(1,4))\n",
    "ECt = np.loadtxt(thermdir+ecf, \n",
    "               delimiter=',', skiprows=9, usecols=0, dtype=str)\n",
    "dstE = (datetime.strptime(ECt[0][1:-3],'%H:%M:%S.%f'))"
   ]
  },
  {
   "cell_type": "markdown",
   "metadata": {},
   "source": [
    "### Check for DST (DAQ doesn't use OS time)"
   ]
  },
  {
   "cell_type": "code",
   "execution_count": 5,
   "metadata": {},
   "outputs": [
    {
     "name": "stdout",
     "output_type": "stream",
     "text": [
      "dstA = 1900-01-01 18:08:07.459000\n",
      "dstE = 1900-01-01 18:08:04.703771\n",
      "dstCheck = 0:00:02.755229\n"
     ]
    }
   ],
   "source": [
    "print('dstA = ' + str(dstA))\n",
    "print('dstE = ' + str(dstE))\n",
    "\n",
    "if dstA>dstE:\n",
    "    dstCheck = dstA-dstE\n",
    "else:\n",
    "    dstCheck = dstE-dstA\n",
    "\n",
    "print('dstCheck = ' + str(dstCheck))\n",
    "\n",
    "if dstCheck.seconds > 600:\n",
    "    ECt = [datetime.strptime(time[1:-3],'%H:%M:%S.%f')-timedelta(hours=1) for time in ECt]\n",
    "else:\n",
    "    ECt = [datetime.strptime(time[1:-3],'%H:%M:%S.%f') for time in ECt]\n",
    "ECt = np.asarray([datetime.timestamp(n) for n in ECt])"
   ]
  },
  {
   "cell_type": "markdown",
   "metadata": {},
   "source": [
    "### Find when current starts to flow"
   ]
  },
  {
   "cell_type": "code",
   "execution_count": 6,
   "metadata": {},
   "outputs": [
    {
     "name": "stdout",
     "output_type": "stream",
     "text": [
      "timeOffset =-2208923498.896229\n"
     ]
    }
   ],
   "source": [
    "# Finds where absolute value of current is greater than 0.2 the first time\n",
    "off = np.argmax(np.diff(np.where(np.absolute(EC[:,1])<0.2)))\n",
    "timeOffset = ECt[off+1]\n",
    "print('timeOffset =' +str(timeOffset))\n",
    "\n",
    "# Time sync : 0 is now when current starts flowing\n",
    "At = At-timeOffset\n",
    "ECt = ECt-timeOffset\n",
    "\n",
    "# Put time into the DAQ array\n",
    "EC = np.insert(EC,0,ECt,axis=1)"
   ]
  },
  {
   "cell_type": "markdown",
   "metadata": {},
   "source": [
    "### Set thermometer temperature to calibrate ambient thermocouple"
   ]
  },
  {
   "cell_type": "code",
   "execution_count": 7,
   "metadata": {},
   "outputs": [],
   "source": [
    "tref = 23.5\n",
    "EC[:,1] = EC[:,1] - EC[0,1] + tref"
   ]
  },
  {
   "cell_type": "markdown",
   "metadata": {},
   "source": [
    "### Create kokam object"
   ]
  },
  {
   "cell_type": "code",
   "execution_count": 8,
   "metadata": {},
   "outputs": [],
   "source": [
    "from customImports import thermography_functions as tf\n",
    "# Reload module if changes are made\n",
    "# importlib.reload(tf)\n",
    "kokam = tf.thermography(A, 'Kokam')"
   ]
  },
  {
   "cell_type": "markdown",
   "metadata": {},
   "source": [
    "### Plots DAQ data, change col to get other column data"
   ]
  },
  {
   "cell_type": "code",
   "execution_count": 10,
   "metadata": {},
   "outputs": [
    {
     "data": {
      "application/vnd.jupyter.widget-view+json": {
       "model_id": "00ae84f852d441459fa42f78bb8e3b87",
       "version_major": 2,
       "version_minor": 0
      },
      "text/plain": [
       "Canvas(toolbar=Toolbar(toolitems=[('Home', 'Reset original view', 'home', 'home'), ('Back', 'Back to previous …"
      ]
     },
     "metadata": {},
     "output_type": "display_data"
    }
   ],
   "source": [
    "kokam.plot_DAQ(EC, ylabel = 'Ambient temperature ($^{\\circ}$C)', col = [1])\n",
    "# kokam.plot_DAQ(EC, ylabel = 'Potential (V)', col = 2)"
   ]
  },
  {
   "cell_type": "markdown",
   "metadata": {},
   "source": [
    "## Adjust ROI locations (full image)\n",
    "Manually change parameters until rectangles align, then uncomment last line to save figure\n",
    "- Sampling area : ndarray[row_index][column_index]\n",
    "- With patches  : patches.thingyouwant((x,y),width,height,etc)"
   ]
  },
  {
   "cell_type": "code",
   "execution_count": 11,
   "metadata": {},
   "outputs": [],
   "source": [
    "# Manually choose where the active battery material and ambient spot locations are\n",
    "# Placed into list [top left corner row, top left corner col, number of rows, number of columns] or [y, x, height, width]\n",
    "# Can probably do something like edge detection instead\n",
    "Abatt = [139,102,52,109]\n",
    "Aamb = [139,277,27,27]"
   ]
  },
  {
   "cell_type": "markdown",
   "metadata": {},
   "source": [
    "## Plots the ROI that are chosen above"
   ]
  },
  {
   "cell_type": "code",
   "execution_count": 12,
   "metadata": {},
   "outputs": [
    {
     "data": {
      "application/vnd.jupyter.widget-view+json": {
       "model_id": "97cc38f5bdef49f6af293d81407bb250",
       "version_major": 2,
       "version_minor": 0
      },
      "text/plain": [
       "Canvas(toolbar=Toolbar(toolitems=[('Home', 'Reset original view', 'home', 'home'), ('Back', 'Back to previous …"
      ]
     },
     "metadata": {},
     "output_type": "display_data"
    }
   ],
   "source": [
    "kokam.plot_ROI(Abatt, Aamb, frame = 2000)\n",
    "# Save current figure, if wanted\n",
    "# There is also a function to save all open figures near the end\n",
    "# plt.savefig(thermdir+\"ROI_return.pdf\")"
   ]
  },
  {
   "cell_type": "markdown",
   "metadata": {},
   "source": [
    "### Slice out ROI data for further processing"
   ]
  },
  {
   "cell_type": "code",
   "execution_count": null,
   "metadata": {},
   "outputs": [],
   "source": [
    "B, Amb = kokam.extract_ROI(Abatt, Aamb)\n",
    "# Not necessary but might need to reload the original file if working backwards\n",
    "B = copy.deepcopy(B)"
   ]
  },
  {
   "cell_type": "markdown",
   "metadata": {},
   "source": [
    "### Camera calibration adjustment"
   ]
  },
  {
   "cell_type": "code",
   "execution_count": null,
   "metadata": {},
   "outputs": [],
   "source": [
    "B = kokam.ambient_calibration(B, Amb)"
   ]
  },
  {
   "cell_type": "markdown",
   "metadata": {},
   "source": [
    "### Hot spot tracker"
   ]
  },
  {
   "cell_type": "code",
   "execution_count": null,
   "metadata": {},
   "outputs": [],
   "source": [
    "# Finds index of IR frame that references  t = 0\n",
    "At0 = np.where(np.round(At) == 0)[0][0]\n",
    "# Function to generate list of 2D max locations in (x,y) for n frames after t = 0\n",
    "indMax = kokam.hotspot_location_array(B, At0, 2500)"
   ]
  },
  {
   "cell_type": "code",
   "execution_count": null,
   "metadata": {},
   "outputs": [],
   "source": [
    "# Average the x and y coordinate \n",
    "# (patchSize/2) is for making up for the dimension of the square\n",
    "patchSize = 10\n",
    "Ahot = np.round(np.mean(indMax[200:], axis=0)).astype(int)-int(patchSize/2)\n",
    "# Acold is just defaulted to bottom left corner, shifted to match patchSize\n",
    "Acold = [B[0].shape[0]-patchSize, 0]\n",
    "\n",
    "print('Hot spot location (pixels): '+str(Ahot))\n",
    "print('Cold spot location (pixels): '+str(Acold))"
   ]
  },
  {
   "cell_type": "markdown",
   "metadata": {},
   "source": [
    "### Plots location of hot spot at each time step using magma color map\n",
    "- dark/blue = early\n",
    "- orange/white = later"
   ]
  },
  {
   "cell_type": "code",
   "execution_count": null,
   "metadata": {},
   "outputs": [],
   "source": [
    "kokam.plot_extremes_tracker(B[0].shape, indMax, Ahot, Acold, patchSize)"
   ]
  },
  {
   "cell_type": "markdown",
   "metadata": {},
   "source": [
    "### Plots the hot/cold spot rectangles over a sample frame from IR video"
   ]
  },
  {
   "cell_type": "code",
   "execution_count": null,
   "metadata": {},
   "outputs": [],
   "source": [
    "kokam.plot_battery_ROI(B, patchSize, 1000, Ahot, Acold)"
   ]
  },
  {
   "cell_type": "markdown",
   "metadata": {},
   "source": [
    "# ROI data generation \n",
    "- takes surface average of the entire input array, and the slices provided"
   ]
  },
  {
   "cell_type": "code",
   "execution_count": null,
   "metadata": {},
   "outputs": [],
   "source": [
    "Thot, Tavg, Tcold = kokam.extract_data(B, Ahot, Acold, patchSize)"
   ]
  },
  {
   "cell_type": "markdown",
   "metadata": {},
   "source": [
    "#### Convert $\\Delta$T back to absolute using average ambient temperature \n",
    "#### (from ambient temperature thermocouple calibrated with thermometer)"
   ]
  },
  {
   "cell_type": "code",
   "execution_count": null,
   "metadata": {},
   "outputs": [],
   "source": [
    "# Add back the time average air temperature of the room (over time of experiment)\n",
    "tAmbAvg = np.mean(EC[:,1])\n",
    "\n",
    "Thot = Thot + tAmbAvg\n",
    "Tavg = Tavg + tAmbAvg\n",
    "Tcold = Tcold + tAmbAvg\n",
    "\n",
    "# Combines the column vectors into an array\n",
    "IR = np.stack((At,Thot,Tavg,Tcold), axis = 1)"
   ]
  },
  {
   "cell_type": "markdown",
   "metadata": {},
   "source": [
    "# Interpolate all the things\n",
    "- Camera freq is at 1 Hz\n",
    "- Data logger is at 5 Hz (older experiments were at 1 Hz)\n",
    "- linearly interpolate at 1 Hz"
   ]
  },
  {
   "cell_type": "code",
   "execution_count": null,
   "metadata": {},
   "outputs": [],
   "source": [
    "Time = np.arange(0,int(At[-1]),1)\n",
    "Table = np.empty((Time.shape[0],IR.shape[1]+1))\n",
    "Table[:,0] = Time\n",
    "for x in range(1,4):\n",
    "    Table[:,x] = np.interp(Time,IR[:,0],IR[:,x])\n",
    "Table[:,-1] = np.interp(Time,EC[:,0],EC[:,3])"
   ]
  },
  {
   "cell_type": "markdown",
   "metadata": {},
   "source": [
    "### Normalize starting temperatures\n",
    "- shifts every column so that t=0 has the same temperatures for hot/cold/average"
   ]
  },
  {
   "cell_type": "code",
   "execution_count": null,
   "metadata": {},
   "outputs": [],
   "source": [
    "# Small adjustment to the starting temperatures\n",
    "avgstart = np.mean(Table[0,1:4])\n",
    "for x in range(1,4):\n",
    "    Table[:,x] = Table[:,x]-Table[0,x]+avgstart\n",
    "# np.savetxt(dir+expt+\"thermographyData.csv\", Table, delimiter=\",\", fmt='%1.3f')"
   ]
  },
  {
   "cell_type": "markdown",
   "metadata": {},
   "source": [
    "# Plot"
   ]
  },
  {
   "cell_type": "code",
   "execution_count": null,
   "metadata": {},
   "outputs": [],
   "source": [
    "kokam.plot_processed_thermography(Table, endTime = 2500, adjustable = True)"
   ]
  },
  {
   "cell_type": "markdown",
   "metadata": {},
   "source": [
    "### Run these cells if there are bad calibrations in the data (jumps)"
   ]
  },
  {
   "cell_type": "code",
   "execution_count": null,
   "metadata": {},
   "outputs": [],
   "source": [
    "# Adjust which series to analyze and peak height to choose most appropriate fix\n",
    "kokam.analyze_jumps(Table, 3, 0.1)"
   ]
  },
  {
   "cell_type": "code",
   "execution_count": null,
   "metadata": {},
   "outputs": [],
   "source": [
    "fTable = kokam.execute_jumps(Table)"
   ]
  },
  {
   "cell_type": "code",
   "execution_count": null,
   "metadata": {},
   "outputs": [],
   "source": [
    "kokam.plot_processed_thermography(fTable, endTime = 2500, adjustable = True, figName = 'postFix')"
   ]
  },
  {
   "cell_type": "code",
   "execution_count": null,
   "metadata": {},
   "outputs": [],
   "source": [
    "# np.savetxt(dir+expt+\"thermographyData.csv\", fTable, delimiter=\",\", fmt='%1.3f')"
   ]
  },
  {
   "cell_type": "markdown",
   "metadata": {},
   "source": [
    "# Smoothing for video"
   ]
  },
  {
   "cell_type": "code",
   "execution_count": null,
   "metadata": {},
   "outputs": [],
   "source": [
    "# Associate At (timestamps) to the B matrix, \n",
    "# then interp1D to get interpolated temp data at relevant times\n",
    "Ainterp = interpolate.interp1d(At, B, axis=0)\n",
    "\n",
    "# Time is the same dimensions as COMSOL data length\n",
    "evalTime = np.arange(0,int(At[-1]),1)\n",
    "\n",
    "# Evaluate interpolation function\n",
    "Binterp = Ainterp(evalTime)\n",
    "\n",
    "# Convert back to absolute temperature using tAmbAvg from previous cells\n",
    "Binterp = Binterp - Binterp[0] + tAmbAvg\n",
    "\n",
    "# Smooth the matrix for visualization (gaussian blur)\n",
    "Bsmooth = ndimage.filters.gaussian_filter(Binterp, 5)"
   ]
  },
  {
   "cell_type": "code",
   "execution_count": null,
   "metadata": {},
   "outputs": [],
   "source": [
    "# Use list of time steps you want to plot\n",
    "plotTimes = [1000, 1500, 2100, 2400]\n",
    "# Input number of columns you want the figure to have\n",
    "kokam.plot_video_frames(Bsmooth, plotTimes, 2)"
   ]
  },
  {
   "cell_type": "markdown",
   "metadata": {},
   "source": [
    "### Code to save all open figures into a single PDF"
   ]
  },
  {
   "cell_type": "code",
   "execution_count": null,
   "metadata": {},
   "outputs": [],
   "source": [
    "def save_allfigs(filename, figs=None):\n",
    "    '''\n",
    "    Saves all open figures to a single pdf file if no figure labels are passed, \n",
    "    otherwise saves whatever strings are passed.\n",
    "    \n",
    "    Parameters:\n",
    "        filename (str): filename for pdf\n",
    "        figs (list of str): list of figure labels\n",
    "        \n",
    "    Returns:\n",
    "        pdf file with a figure on each page\n",
    "    '''\n",
    "    with PdfPages('{}.pdf'.format(filename)) as pdf:\n",
    "        if figs is None:\n",
    "            figs = plt.get_figlabels()\n",
    "        for fig in figs:\n",
    "            tempFig = plt.figure(fig)\n",
    "            pdf.savefig(tempFig, dpi = 300)"
   ]
  },
  {
   "cell_type": "code",
   "execution_count": null,
   "metadata": {},
   "outputs": [],
   "source": [
    "save_allfigs('allfigs')"
   ]
  },
  {
   "cell_type": "code",
   "execution_count": null,
   "metadata": {},
   "outputs": [],
   "source": [
    "\n",
    "doc_update = {\n",
    "    'directory':thermdir,\n",
    "    'filename': {\n",
    "        'IR': thermdir.split('/')[-2],\n",
    "        'EC': ecf\n",
    "    },\n",
    "    'ROI': {\n",
    "        'battery corner':Abatt[0:2],\n",
    "        'battery height':Abatt[2],\n",
    "        'battery width':Abatt[3],\n",
    "        'ambient corner':Aamb[0:2],\n",
    "        'ambient height':Aamb[2],\n",
    "        'ambient width':Aamb[3]\n",
    "    },\n",
    "    'expt':{\n",
    "        'cell':'Kokam',\n",
    "        'cellID':thermdir.split('/')[-2].split('_')[0],\n",
    "        'type':'squarewave',\n",
    "        'SOH':95,\n",
    "        'SOC':60,\n",
    "        'c-rate':2,\n",
    "        'period':100,\n",
    "        'tref':tref,\n",
    "        'PSU':'octostat'\n",
    "    },\n",
    "    'batteryROI': {\n",
    "        'hot corner':Ahot.tolist(),\n",
    "        'hot height':patchSize,\n",
    "        'hot width':patchSize,\n",
    "        'cold corner':Acold,\n",
    "        'cold height':patchSize,\n",
    "        'cold width':patchSize\n",
    "    },\n",
    "    'output':mongo.convert_ndarray_binary(fTable),\n",
    "    'imageLocations': {\n",
    "        'thermogramFull':thermdir+\"ROI_return.pdf\",\n",
    "        'hotSpotMap':thermdir+\"hotSpotTracked.pdf\",\n",
    "        'thermogramBatt':thermdir+\"battery_ROI.pdf\",\n",
    "        'thermogramTime':thermdir+'thermogramTime.pdf',\n",
    "        'outputPlot':thermdir+'dataPlot.pdf'\n",
    "    },\n",
    "    'notes': 'nothing of note',\n",
    "    'dstCheck':dstCheck if ecf.split('.')[-1] in ['csv'] else None,\n",
    "    'timeOffset':timeOffset\n",
    "    \n",
    "}\n",
    "\n",
    "collection.update_one({'filename.IR':thermdir.split('/')[-2]}, {'$set':doc_update}, upsert=True)"
   ]
  },
  {
   "cell_type": "code",
   "execution_count": null,
   "metadata": {},
   "outputs": [],
   "source": []
  }
 ],
 "metadata": {
  "kernelspec": {
   "display_name": "Python 3",
   "language": "python",
   "name": "python3"
  },
  "language_info": {
   "codemirror_mode": {
    "name": "ipython",
    "version": 3
   },
   "file_extension": ".py",
   "mimetype": "text/x-python",
   "name": "python",
   "nbconvert_exporter": "python",
   "pygments_lexer": "ipython3",
   "version": "3.7.4"
  }
 },
 "nbformat": 4,
 "nbformat_minor": 4
}
